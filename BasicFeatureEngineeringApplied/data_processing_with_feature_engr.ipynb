{
 "cells": [
  {
   "cell_type": "code",
   "execution_count": 7,
   "id": "77bd3826",
   "metadata": {},
   "outputs": [],
   "source": [
    "# Import Necessary Libraries\n",
    "import pandas as pd"
   ]
  },
  {
   "cell_type": "markdown",
   "id": "cc01e4fb",
   "metadata": {},
   "source": [
    "## Add RUL values"
   ]
  },
  {
   "cell_type": "code",
   "execution_count": 8,
   "id": "12679729",
   "metadata": {},
   "outputs": [],
   "source": [
    "def add_remaining_useful_life(df):\n",
    "    # Get the total number of cycles for each unit\n",
    "    grouped_by_unit = df.groupby(by=\"unit_nr\")\n",
    "    max_cycle = grouped_by_unit[\"time_cycles\"].max()\n",
    "\n",
    "    # Merge the max cycle back into the original frame\n",
    "    result_frame = df.merge(max_cycle.to_frame(name='max_cycle'), left_on='unit_nr', right_index=True)\n",
    "\n",
    "    # Calculate remaining useful life for each row (piece-wise Linear)\n",
    "    remaining_useful_life = result_frame[\"max_cycle\"] - result_frame[\"time_cycles\"]\n",
    "    result_frame[\"RUL\"] = remaining_useful_life\n",
    "\n",
    "    # drop max_cycle as it's no longer needed\n",
    "    result_frame = result_frame.drop(\"max_cycle\", axis=1)\n",
    "\n",
    "    return result_frame"
   ]
  },
  {
   "cell_type": "markdown",
   "id": "81789423",
   "metadata": {},
   "source": [
    "## Apply Feature Engineering"
   ]
  },
  {
   "cell_type": "code",
   "execution_count": 9,
   "id": "fb9387af",
   "metadata": {},
   "outputs": [],
   "source": [
    "def create_lag_features(df, window_size):\n",
    "    # Create lag features for each sensor that exists in the dataframe\n",
    "    sensor_cols = [col for col in df.columns if col.startswith('s_')]\n",
    "    for sensor in sensor_cols:\n",
    "        for i in range(1, window_size + 1):\n",
    "            df[f'{sensor}_lag_{i}'] = df[sensor].shift(i)\n",
    "    return df\n",
    "\n",
    "def feature_engineering(data, window_size=5):\n",
    "    # Apply create_lag_features function to each group within the grouped DataFrame\n",
    "    lagged_data = [create_lag_features(group, window_size) for _, group in data]\n",
    "    # Concatenate the results to get the modified DataFrame\n",
    "    modified_data = pd.concat(lagged_data, ignore_index=True)\n",
    "\n",
    "    # Regroup the modified data based on \"unit_nr\"\n",
    "    modified_data_grouped = modified_data.groupby(\"unit_nr\")\n",
    "\n",
    "    return modified_data_grouped"
   ]
  },
  {
   "cell_type": "markdown",
   "id": "fb88f888",
   "metadata": {},
   "source": [
    "## Data Loading and Exporting Function"
   ]
  },
  {
   "cell_type": "code",
   "execution_count": 10,
   "id": "f9f32d0c",
   "metadata": {},
   "outputs": [],
   "source": [
    "def loading_FD001():\n",
    "\n",
    "    # define filepath to read data\n",
    "    dir_path = '../raw_data/'\n",
    "\n",
    "    # define column names for easy indexing\n",
    "    index_names = ['unit_nr', 'time_cycles']\n",
    "    setting_names = ['setting_1', 'setting_2', 'setting_3']\n",
    "    sensor_names = ['s_{}'.format(i) for i in range(1, 22)]\n",
    "    col_names = index_names + setting_names + sensor_names\n",
    "\n",
    "    # read data\n",
    "    train = pd.read_csv((dir_path + 'train_FD001.txt'), sep='\\s+', header=None, names=col_names)\n",
    "    test = pd.read_csv((dir_path + 'test_FD001.txt'), sep='\\s+', header=None, names=col_names)\n",
    "    y_test = pd.read_csv((dir_path + 'RUL_FD001.txt'), sep='\\s+', header=None, names=['RUL'])\n",
    "\n",
    "    # drop non-informative features in training set\n",
    "    drop_sensors = ['s_1', 's_5', 's_6', 's_10', 's_16', 's_18', 's_19']\n",
    "    drop_labels = setting_names + drop_sensors\n",
    "    train.drop(labels=drop_labels, axis=1, inplace=True)\n",
    "\n",
    "    # separate title information and sensor data\n",
    "    title = train.iloc[:, 0:2]\n",
    "    data = train.iloc[:, 2:]\n",
    "\n",
    "    # min-max normalization of the sensor data\n",
    "    data_norm = (data - data.min()) / (data.max() - data.min())\n",
    "    train_norm = pd.concat([title, data_norm], axis=1)\n",
    "\n",
    "    # add piece-wise target remaining useful life\n",
    "    train_norm = add_remaining_useful_life(train_norm)\n",
    "    train_norm['RUL'].clip(upper=125, inplace=True) # in the paper the MAX RUL is mentioned as 125\n",
    "\n",
    "    # Group the training set with unit\n",
    "    train_group = train_norm.groupby(by=\"unit_nr\")\n",
    "\n",
    "    # Drop non-informative features in the testing set\n",
    "    test.drop(labels=drop_labels, axis=1, inplace=True)\n",
    "    title = test.iloc[:, 0:2]\n",
    "    data = test.iloc[:, 2:]\n",
    "    data_norm = (data - data.min()) / (data.max() - data.min())\n",
    "    test_norm = pd.concat([title, data_norm], axis=1)\n",
    "\n",
    "    # Group the testing set with unit\n",
    "    test_group = test_norm.groupby(by=\"unit_nr\")\n",
    "\n",
    "    # Apply feature engineering to the training and testing data\n",
    "    train_group = feature_engineering(train_group)\n",
    "    test_group = feature_engineering(test_group)\n",
    "\n",
    "    # print(train_group)\n",
    "    # print(test_group)\n",
    "\n",
    "    return train_group, y_test, test_group"
   ]
  },
  {
   "cell_type": "code",
   "execution_count": 13,
   "id": "942b446d",
   "metadata": {},
   "outputs": [],
   "source": [
    "if __name__ == \"__main__\":\n",
    "    train_group, y_test, test_group = loading_FD001()\n",
    "    \n",
    "    # Concatenate the train_group and test_group into single DataFrames\n",
    "    train_df = pd.concat([group for _, group in train_group])\n",
    "    test_df = pd.concat([group for _, group in test_group])\n",
    "    \n",
    "    # Save concatenated DataFrames to CSV files\n",
    "    train_df.to_csv('../processed_data/train_group.csv', index=False)\n",
    "    test_df.to_csv('../processed_data/test_group.csv', index=False)\n",
    "    \n",
    "    # Save y_test to a CSV file\n",
    "    y_test.to_csv('../processed_data/y_test.csv', index=False)"
   ]
  }
 ],
 "metadata": {
  "kernelspec": {
   "display_name": "Python 3 (ipykernel)",
   "language": "python",
   "name": "python3"
  },
  "language_info": {
   "codemirror_mode": {
    "name": "ipython",
    "version": 3
   },
   "file_extension": ".py",
   "mimetype": "text/x-python",
   "name": "python",
   "nbconvert_exporter": "python",
   "pygments_lexer": "ipython3",
   "version": "3.10.4"
  }
 },
 "nbformat": 4,
 "nbformat_minor": 5
}
