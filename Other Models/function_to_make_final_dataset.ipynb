{
 "cells": [
  {
   "cell_type": "code",
   "execution_count": 1,
   "id": "fd3f1ee5",
   "metadata": {},
   "outputs": [],
   "source": [
    "# Import Necessary Libraries\n",
    "import numpy as np\n",
    "import matplotlib.pyplot as plt\n",
    "import pandas as pd\n",
    "import seaborn as sns"
   ]
  },
  {
   "cell_type": "markdown",
   "id": "0d61d932",
   "metadata": {},
   "source": [
    "## Function"
   ]
  },
  {
   "cell_type": "code",
   "execution_count": 6,
   "id": "908003e6",
   "metadata": {},
   "outputs": [],
   "source": [
    "def create_dataset(data, correlation_threshold=None):\n",
    "    # Drop NaN values columns\n",
    "    data = data.drop([26, 27], axis = 'columns')\n",
    "    # Add column names\n",
    "    data.columns = ['unit_number', 'cycle', 'setting1', 'setting2', 'setting3', 'sensor1',\n",
    "                    'sensor2', 'sensor3', 'sensor4', 'sensor5', 'sensor6', 'sensor7', 'sensor8',\n",
    "                    'sensor9', 'sensor10', 'sensor11', 'sensor12', 'sensor13', 'sensor14',\n",
    "                    'sensor15', 'sensor16', 'sensor17', 'sensor18', 'sensor19', 'sensor20', 'sensor21']\n",
    "    \n",
    "    # 3.5 Create an array which consists of End of Life (EOL) values for each units\n",
    "    EOL = []\n",
    "    for each_unit in data['unit_number']:\n",
    "        eol_values = ((data[data['unit_number'] == each_unit][\"cycle\"]).values[-1])\n",
    "        EOL.append(eol_values)\n",
    "        \n",
    "    # 3.6 Append \"EOL\" in a new column\n",
    "    data[\"EOL\"] = EOL\n",
    "    \n",
    "    data[\"RUL\"] = data[\"EOL\"] - data[\"cycle\"]\n",
    "    new_data = data.drop(columns=[\"EOL\"])\n",
    "    \n",
    "    delete_columns=[]\n",
    "\n",
    "    for col in new_data.columns:\n",
    "        corr = new_data[col].corr(new_data['RUL'])\n",
    "        #print(col,corr)\n",
    "        if abs(corr)>correlation_threshold:\n",
    "            pass\n",
    "        else:    \n",
    "            delete_columns.append(col)\n",
    "            \n",
    "    final_data = new_data.drop(columns=delete_columns)\n",
    "    \n",
    "    return final_data"
   ]
  },
  {
   "cell_type": "markdown",
   "id": "61145596",
   "metadata": {},
   "source": [
    "## Read Train and Test Data"
   ]
  },
  {
   "cell_type": "code",
   "execution_count": 7,
   "id": "d93b7e95",
   "metadata": {},
   "outputs": [],
   "source": [
    "# Train data\n",
    "train_data = pd.read_csv(\"data/train_FD001.txt\", sep=' ', header = None)\n",
    "# Test data\n",
    "test_data = pd.read_csv(\"data/test_FD001.txt\", sep=' ', header = None)"
   ]
  },
  {
   "cell_type": "markdown",
   "id": "45b805f6",
   "metadata": {},
   "source": [
    "## Call function and create dataset\n"
   ]
  },
  {
   "cell_type": "code",
   "execution_count": 9,
   "id": "5e505cb6",
   "metadata": {},
   "outputs": [],
   "source": [
    "# Train Final dataset\n",
    "final_train_data = create_dataset(train_data, correlation_threshold=0.5)\n",
    "final_train_data.to_csv('Processed_Train_FD001.csv', index=None)"
   ]
  },
  {
   "cell_type": "code",
   "execution_count": null,
   "id": "d2e81647",
   "metadata": {},
   "outputs": [],
   "source": [
    "# Test Final dataset\n",
    "test_train_data = create_dataset(test_data, correlation_threshold=0.5)\n",
    "test_train_data.to_csv('Processed_Test_FD001.csv', index=None)"
   ]
  }
 ],
 "metadata": {
  "kernelspec": {
   "display_name": "Python 3 (ipykernel)",
   "language": "python",
   "name": "python3"
  },
  "language_info": {
   "codemirror_mode": {
    "name": "ipython",
    "version": 3
   },
   "file_extension": ".py",
   "mimetype": "text/x-python",
   "name": "python",
   "nbconvert_exporter": "python",
   "pygments_lexer": "ipython3",
   "version": "3.10.4"
  }
 },
 "nbformat": 4,
 "nbformat_minor": 5
}
