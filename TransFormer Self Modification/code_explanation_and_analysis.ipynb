{
 "cells": [
  {
   "cell_type": "code",
   "execution_count": 1,
   "id": "48fd16ab",
   "metadata": {},
   "outputs": [],
   "source": [
    "import copy\n",
    "import math\n",
    "import numpy as np\n",
    "import torch\n",
    "import torch.nn as nn\n",
    "import torch.nn.functional as F\n",
    "from torch.autograd import Variable"
   ]
  },
  {
   "cell_type": "code",
   "execution_count": 2,
   "id": "c088266d",
   "metadata": {},
   "outputs": [],
   "source": [
    "\"\"\"\n",
    "Here\n",
    "m = Number of features\n",
    "d_model = Dimension of encoder\n",
    "heads = Number of heads in multi-head attention\n",
    "N = Number of encoder layers\n",
    "\n",
    "\"\"\"\n",
    "\n",
    "# 1. Adjust the number of layers in the encoder.\n",
    "class ModifiedTransformer(nn.Module):\n",
    "    def __init__(self, m, d_model, N, heads, dropout):\n",
    "        super().__init__()\n",
    "        self.gating = Gating(d_model, m)\n",
    "        self.encoder = Encoder(d_model, N, heads, m, dropout)\n",
    "        self.out = nn.Linear(d_model, 1)\n",
    "\n",
    "    def forward(self, src, t):\n",
    "        e_i = self.gating(src)\n",
    "        e_outputs = self.encoder(e_i, t)\n",
    "        output = self.out(e_outputs)\n",
    "\n",
    "        return output.reshape(1)"
   ]
  },
  {
   "cell_type": "code",
   "execution_count": null,
   "id": "d195ce15",
   "metadata": {},
   "outputs": [],
   "source": [
    "# Increase the number of layers to 4\n",
    "modified_model = ModifiedTransformer(m=14, d_model=128, N=4, heads=4, dropout=0.1)\n",
    "\n",
    "# Decrease the number of layers to 2\n",
    "modified_model = ModifiedTransformer(m=14, d_model=128, N=2, heads=4, dropout=0.1)"
   ]
  }
 ],
 "metadata": {
  "kernelspec": {
   "display_name": "Python 3 (ipykernel)",
   "language": "python",
   "name": "python3"
  },
  "language_info": {
   "codemirror_mode": {
    "name": "ipython",
    "version": 3
   },
   "file_extension": ".py",
   "mimetype": "text/x-python",
   "name": "python",
   "nbconvert_exporter": "python",
   "pygments_lexer": "ipython3",
   "version": "3.10.4"
  }
 },
 "nbformat": 4,
 "nbformat_minor": 5
}
